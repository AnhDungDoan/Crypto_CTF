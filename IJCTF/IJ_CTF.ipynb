{
  "nbformat": 4,
  "nbformat_minor": 0,
  "metadata": {
    "colab": {
      "name": "IJ_CTF.ipynb",
      "provenance": [],
      "collapsed_sections": [],
      "toc_visible": true
    },
    "kernelspec": {
      "name": "python3",
      "display_name": "Python 3"
    },
    "language_info": {
      "name": "python"
    }
  },
  "cells": [
    {
      "cell_type": "markdown",
      "metadata": {
        "id": "bUu0Hx7IIJef"
      },
      "source": [
        "# Chicken Caesar Salad\n",
        "\n",
        "**Đề:** (quên lưu)\n",
        "\n",
        "**FLAG:**: \n",
        ">ictf{wHen_dID_cAEseR_cIphERs_gEt_sO_hARd}"
      ]
    },
    {
      "cell_type": "markdown",
      "metadata": {
        "id": "xsSkrKEQIjSZ"
      },
      "source": [
        "# Flip_Flop\n",
        "\n",
        "**Đề:**"
      ]
    },
    {
      "cell_type": "code",
      "metadata": {
        "id": "TX0LwdMGIo-g"
      },
      "source": [
        "#!/usr/local/bin/python\n",
        "from Crypto.Cipher import AES\n",
        "from Crypto.Util.Padding import pad, unpad\n",
        "import binascii\n",
        "import os\n",
        "\n",
        "print('''\n",
        "                                        ,,~~~~~~,,..\n",
        "                             ...., ,'~             |\n",
        "                             \\    V                /\n",
        "                              \\  /                 /\n",
        "                              ;####>     @@@@@     )\n",
        "                              ##;,      @@@@@@@    )\n",
        "                           .##/  ~>      @@@@@   .   .\n",
        "                          ###''#>              '      '\n",
        "      .:::::::.      ..###/ #>               '         '\n",
        "     //////))))----~~ ## #}                '            '\n",
        "   ///////))))))                          '             '\n",
        "  ///////)))))))\\                        '              '\n",
        " //////)))))))))))                                      '\n",
        " |////)))))))))))))____________________________________).\n",
        "|||||||||||||||||||||||||||||||||||||||||||||||||||||||||\n",
        "\n",
        "(yeah they're not flip flops but close enough)\n",
        "\n",
        "''')\n",
        "\n",
        "key = os.urandom(16)\n",
        "iv = os.urandom(16)\n",
        "flag = open(\"flag.txt\").read().strip()\n",
        "\n",
        "\n",
        "for _ in range(3):\n",
        "\tprint(\"Send me a string that when decrypted contains 'gimmeflag'.\")\n",
        "\tprint(\"1. Encrypt\")\n",
        "\tprint(\"2. Check\")\n",
        "\tchoice = input(\"> \")\n",
        "\tif choice == \"1\":\n",
        "\t\tcipher = AES.new(key, AES.MODE_CBC, iv)\n",
        "\t\tpt = binascii.unhexlify(input(\"Enter your plaintext (in hex): \"))\n",
        "\t\tif b\"gimmeflag\" in pt:\n",
        "\t\t\tprint(\"I'm not making it *that* easy for you :kekw:\")\n",
        "\t\telse:\n",
        "\t\t\tprint(binascii.hexlify(cipher.encrypt(pad(pt, 16))).decode())\n",
        "\telse:\n",
        "\t\tcipher = AES.new(key, AES.MODE_CBC, iv)\n",
        "\t\tct = binascii.unhexlify(input(\"Enter ciphertext (in hex): \"))\n",
        "\t\tassert len(ct) % 16 == 0\n",
        "\t\tif b\"gimmeflag\" in cipher.decrypt(ct):\n",
        "\t\t\tprint(flag)\n",
        "\t\telse:\n",
        "\t\t\tprint(\"Bad\")\n",
        "\n",
        "print(\"Out of operations!\")\n"
      ],
      "execution_count": null,
      "outputs": []
    },
    {
      "cell_type": "markdown",
      "metadata": {
        "id": "ALGtq55wI0By"
      },
      "source": [
        "Solve:\n",
        "\n",
        "Về cơ bản, đề bắt mình nhập 1 đoạn cipher sao cho sau khi decrypt chứa \"gimmieflag\" để tìm ra flag và cho mình 3 lần thử: hoặc là encrypt, hoặc là decrypt.\n",
        "\n",
        "Rõ ràng trong 3 lần thử này, ta có iv và key như nhau, nhưng khi encrypt chữ \"gimmieflag\" thì tất nhiên nó không cho, và bài cũng không dễ ăn vậy\n",
        "\n",
        "*Ý tưởng:* \n",
        "\n",
        "Bây giờ mình chia phần mình cần nhập (gimmieflag) thành 2 phần. Nhưng sau khi ghép lại, nó vẫn chứa \"gimmieflag\". Do mình có 3 lần thử\n",
        "\n",
        "Tạt về lý thuyết, ta có mô hình AES_CBC như sau:\n",
        "\n",
        "- $C1 = E(P1 xor IV)$\n",
        "- $C2 = E(P2 xor C1)$\n",
        "\n",
        "...\n",
        "\n",
        "**Tiếp cận:**\n",
        "\n",
        "Gọi C'1 và C'2 là 2 đoạn cipher để mình ghép lại sao cho ra 1 dãy chứa \"gimmieflag\"\n",
        "\n",
        "Nếu ta chia phần cần nhập thành 2 dãy: \"aaa..gimmie\" và \"flagaa..aa\" sao cho mỗi phần có 16 bit thì sao, để sau mình ghép lại ấy?\n",
        "\n",
        "Sau khi nhập, ta được:\n",
        "\n",
        "- $C1 = E(P1 xor IV)$\n",
        "- $C2 = E(P2 xor IV)$\n",
        "\n",
        "=> Vậy đâu có đúng?\n",
        "\n",
        "Chuyển hướng tiếp cận:\n",
        "\n",
        "Phần đầu là : \"aa..gimmieaa..aa\" (32bytes), sau khi nhập lần đầu, ta được:\n",
        "\n",
        "- $C1 = E(P1 xor IV)$\n",
        "- $C2 = E(P2 xor C1)$\n",
        "\n",
        "(vì mỗi block chiếm 16 bytes)\n",
        "\n",
        "Vì block đầu tiên luôn đúng nên mình không cần bận tâm mấy, việc mình cần là làm sao tìmd dược block 2 sao cho $C2 = E(P2 xor C1)$ ($C2 = E(flagaa..aa xor E(aa..aagimmie xor IV))$) (là phần flagaa..aa)\n",
        "\n",
        "Vậy sau khi nhập lần đầu như trên, ta có được C'1 rồi, giờ tìm C'2, nhưng cái mình cần là phần mình nhập sẽ như thế nào để ra được C'2?\n",
        "\n",
        "Nếu mình mở rộng độ dài của đoạn lần đầu nhập (thêm 16bytes), đồng nghĩa với việc: $C3 = E(P3 xor C2)$. Nhưng cái mình cần tìm là $P'3 xor C'1$, song, ta có phương trình:\n",
        "\n",
        "$P3 xor C2 = P'3 xor C'1$\n",
        "\n",
        "Mà C'1 = C1\n",
        "\n",
        "=> $P'3 = P3 xor C2 xor C1$\n",
        "\n",
        "\n"
      ]
    },
    {
      "cell_type": "code",
      "metadata": {
        "id": "jJvnQXAwNf0r"
      },
      "source": [
        "from pwn import *\n",
        "\n",
        "s = remote('chal.imaginaryctf.org', 42011)\n",
        "\n",
        "s.recvuntil('> ')\n",
        "s.sendline(b'1')\n",
        "\n",
        "s.recvuntil('Enter your plaintext (in hex): ')\n",
        "payload1 = 'aaaaaaaagimmefla' + 'aaaaaaaaaaaaaaaa'\n",
        "s.sendline(bytes(payload1.encode('utf-8').hex(), 'utf-8'))\n",
        "\n",
        "d = s.recvline().strip().decode('utf-8')[:64]\n",
        "\n",
        "a = d[:32]\n",
        "b = d[32:]\n",
        "\n",
        "payload2 = int('gaaaaaaaaaaaaaaa'.encode('utf-8').hex(), 16)\n",
        "payload2 ^= (int(a, 16) ^ int(b, 16))\n",
        "\n",
        "payload2 = hex(payload2)\n",
        "\n",
        "s.recvuntil('> ')\n",
        "s.sendline(b'1')\n",
        "s.recvuntil('Enter your plaintext (in hex): ')\n",
        "\n",
        "s.sendline(bytes(payload1.encode('utf-8').hex() + payload2[2:], 'utf-8'))\n",
        "\n",
        "e = s.recvline().strip().decode('utf-8')\n",
        "e = e[64:96]\n",
        "\n",
        "s.recvuntil('> ')\n",
        "s.sendline(b'2')\n",
        "s.recvuntil('Enter ciphertext (in hex): ')\n",
        "\n",
        "s.sendline(bytes(a + e, 'utf-8'))\n",
        "\n",
        "flag = s.recvline()\n",
        "print(flag)\n",
        "\n",
        "\n"
      ],
      "execution_count": null,
      "outputs": []
    },
    {
      "cell_type": "markdown",
      "metadata": {
        "id": "lN3-zn97Nrrm"
      },
      "source": [
        "# Rock_Solid_Algorithm\n",
        "\n",
        "**Đề:**\n",
        "\n",
        "n= 18718668654839418101060350414897678724581774081742102287908765212690862231899547405582997157020093499506177632395430572542600019258424947803591395926472246347413986531437177801754324606200243710836609694453888894668656807471052095014376204102474311740080044776201105722801365112971807912406879483156845216746137339614577267869908065296042390812575960639865867729920434603853708907147465162697098688239587320232595412227310236678367\n",
        "\n",
        "e = 5\n",
        "\n",
        "c = 4061448515799106340420739691775850071489215699577921072934942485890519294380069123037340174441242842518682390853378784679825023237216051766738593812159344136064529711265570171627670665806072255545198689928996413238102114126558579154343844959868438278433954975590137693439216155482228025380904377837299357044104373966173149290333194304831238889245126840666444234215617022142380016275718234640045049962318290976661640301222078289152\n"
      ]
    },
    {
      "cell_type": "markdown",
      "metadata": {
        "id": "HT0jzpCSOc0b"
      },
      "source": [
        "**Solve:**\n",
        "\n",
        "Tuyệt vời, ta thấy e nhỏ, nên có thể brute_force do $m^e = c + i*n$ <=> $c = m^e mod n$"
      ]
    },
    {
      "cell_type": "code",
      "metadata": {
        "id": "eqewwntaRFvS"
      },
      "source": [
        "from Crypto.Util.number import *\n",
        "import gmpy2\n",
        "\n",
        "n = 18718668654839418101060350414897678724581774081742102287908765212690862231899547405582997157020093499506177632395430572542600019258424947803591395926472246347413986531437177801754324606200243710836609694453888894668656807471052095014376204102474311740080044776201105722801365112971807912406879483156845216746137339614577267869908065296042390812575960639865867729920434603853708907147465162697098688239587320232595412227310236678367\n",
        "e = 5\n",
        "c = 4061448515799106340420739691775850071489215699577921072934942485890519294380069123037340174441242842518682390853378784679825023237216051766738593812159344136064529711265570171627670665806072255545198689928996413238102114126558579154343844959868438278433954975590137693439216155482228025380904377837299357044104373966173149290333194304831238889245126840666444234215617022142380016275718234640045049962318290976661640301222078289152\n",
        "\n",
        "for i in range(100):\n",
        "    temp_c, checked = gmpy2.iroot(c + i*n, e)\n",
        "    if checked:\n",
        "        print(i)\n",
        "        print(long_to_bytes(temp_c))"
      ],
      "execution_count": null,
      "outputs": []
    },
    {
      "cell_type": "markdown",
      "metadata": {
        "id": "82KD2XTWRHor"
      },
      "source": [
        ">FLAG: ictf{wHen_dID_cAEseR_cIphERs_gEt_sO_hARd}"
      ]
    }
  ]
}