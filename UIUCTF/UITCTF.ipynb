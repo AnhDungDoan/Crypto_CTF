{
  "nbformat": 4,
  "nbformat_minor": 0,
  "metadata": {
    "colab": {
      "name": "UITCTF.ipynb",
      "provenance": [],
      "collapsed_sections": [],
      "toc_visible": true
    },
    "kernelspec": {
      "name": "python3",
      "display_name": "Python 3"
    },
    "language_info": {
      "name": "python"
    }
  },
  "cells": [
    {
      "cell_type": "markdown",
      "metadata": {
        "id": "vZfsb8BpGQu-"
      },
      "source": [
        "# DKHE_INTRO\n",
        "Đề như sau:\n"
      ]
    },
    {
      "cell_type": "code",
      "metadata": {
        "id": "U0gtarUWGbjX"
      },
      "source": [
        "import random\n",
        "from Crypto.Cipher import AES\n",
        "\n",
        "# generate key\n",
        "gpList = [ [13, 19], [7, 17], [3, 31], [13, 19], [17, 23], [2, 29] ]\n",
        "g, p = random.choice(gpList)\n",
        "a = random.randint(1, p)\n",
        "b = random.randint(1, p)\n",
        "k = pow(g, a * b, p)\n",
        "k = str(k)\n",
        "\n",
        "# print(\"Diffie-Hellman key exchange outputs\")\n",
        "# print(\"Public key: \", g, p)\n",
        "# print(\"Jotaro sends: \", aNum)\n",
        "# print(\"Dio sends: \", bNum)\n",
        "# print()\n",
        "\n",
        "# pad key to 16 bytes (128bit)\n",
        "key = \"\"\n",
        "i = 0\n",
        "padding = \"uiuctf2021uiuctf2021\"\n",
        "while (16 - len(key) != len(k)):\n",
        "    key = key + padding[i]\n",
        "    i += 1\n",
        "key = key + k\n",
        "key = bytes(key, encoding='ascii')\n",
        "\n",
        "with open('flag.txt', 'rb') as f:\n",
        "    flag = f.read()\n",
        "\n",
        "iv = bytes(\"kono DIO daaaaaa\", encoding = 'ascii')\n",
        "cipher = AES.new(key, AES.MODE_CFB, iv)\n",
        "ciphertext = cipher.encrypt(flag)\n",
        "\n",
        "print(ciphertext.hex())\n"
      ],
      "execution_count": null,
      "outputs": []
    },
    {
      "cell_type": "markdown",
      "metadata": {
        "id": "oJblAOEYGgIA"
      },
      "source": [
        "***Solve***\n",
        "\n",
        "Dễ thấy g, p random từ gplist, ta được $pmax = 29$.\n",
        "\n",
        "Trong khi đó, padding được sinh ra nhờ $g^a*p %p$ sau đó được nhét sau phần padding có sẵn. Vậy không cần biết g như nào, ta dễ nhận ra $k < 29$ (do %p)\n",
        "\n",
        "Brute force từ 0 đến 28, làm ngược lại là xong.\n",
        "\n"
      ]
    },
    {
      "cell_type": "code",
      "metadata": {
        "id": "kVtkAr6UHhTO"
      },
      "source": [
        "import random\n",
        "from Crypto.Cipher import AES\n",
        "\n",
        "padding = \"uiuctf2021uiuctf2021\"\n",
        "\n",
        "cip = bytes.fromhex(\"b31699d587f7daf8f6b23b30cfee0edca5d6a3594cd53e1646b9e72de6fc44fe7ad40f0ea6\")\n",
        "\n",
        "iv = bytes(\"kono DIO daaaaaa\", encoding = 'ascii')\n",
        "for x in range(28):\n",
        "    i = 0\n",
        "    key = ''\n",
        "    while (16 - len(key) != len(str(x))):\n",
        "        key = key + padding[i]\n",
        "        i += 1\n",
        "    \n",
        "    key = key + str(x)\n",
        "    key = bytes(key, encoding='ascii')\n",
        "    cipher = AES.new(key, AES.MODE_CFB, iv)\n",
        "    enc = cipher.decrypt(cip)\n",
        "    print(enc)\n"
      ],
      "execution_count": null,
      "outputs": []
    },
    {
      "cell_type": "markdown",
      "metadata": {
        "id": "9F-_L5nSHkUr"
      },
      "source": [
        "**FLAG**:\n",
        "\n",
        "uiuctf{omae_ha_mou_shindeiru_b9e5f9}\n"
      ]
    }
  ]
}