{
  "nbformat": 4,
  "nbformat_minor": 0,
  "metadata": {
    "colab": {
      "name": "RTL_CTF.ipynb",
      "provenance": [],
      "collapsed_sections": [],
      "toc_visible": true
    },
    "kernelspec": {
      "name": "python3",
      "display_name": "Python 3"
    },
    "language_info": {
      "name": "python"
    }
  },
  "cells": [
    {
      "cell_type": "markdown",
      "metadata": {
        "id": "vHqTlcCURfYX"
      },
      "source": [
        "# WELCOME\n",
        "\n",
        "Đề: \n",
        "\n",
        ">UlRMe0g0VkVfRlVOX1BMNFkxTkchfQ==\n",
        "\n",
        "Solve:\n",
        "\n",
        "Chả có cái mẹ gì, đưa vô base64 là ra:\n",
        "\n",
        ">FLAG: RTL{H4VE_FUN_PL4Y1NG!}"
      ]
    },
    {
      "cell_type": "markdown",
      "metadata": {
        "id": "Bta7hWaBRvkb"
      },
      "source": [
        "# Triangle\n",
        "\n",
        "Đề:\n",
        "\n",
        ">133f29027034094a33253126395b3704\n",
        "\n",
        "Solve: \n",
        "\n",
        "Xor phát là ra, brute force cái key:\n",
        "\n",
        "Key = Akey\n",
        "\n",
        ">FLAG: RTL{1_l3rNT_x0R}"
      ]
    },
    {
      "cell_type": "markdown",
      "metadata": {
        "id": "caLOr8viU1L0"
      },
      "source": [
        "# Wait, what!\n",
        "\n",
        "Đề:\n",
        "\n",
        "> NBY{9x175777156k5608n3x889n5nx9215n2}\n",
        "\n",
        "Solve:\n",
        "\n",
        "Vigenere, brute force key\n",
        "\n",
        "Key = WIN\n",
        "\n",
        ">FLAG: RTL{9b175777156c5608a3b889f5ab9215f2}\n"
      ]
    },
    {
      "cell_type": "markdown",
      "metadata": {
        "id": "HJHJK5BtVXIe"
      },
      "source": [
        "# Ciphers Galore!\n",
        "\n",
        "Đề:\n",
        "\n",
        "https://hastebin.com/ajabitobet.rb\n",
        "\n",
        "Solve:\n",
        "\n",
        "Rot47 -> Shift\n",
        "\n",
        ">FLAG: RTL{9b175777156c5608a3b889f5ab9215f2}"
      ]
    },
    {
      "cell_type": "markdown",
      "metadata": {
        "id": "nOlIQ9DXVYuV"
      },
      "source": [
        "# WWII Code?\n",
        "\n",
        "Đề:\n",
        "\n",
        "dvk{3ynxc@_1h_zd3_l@b_u0_u0} M3 UKW B VII 3 2 VII 16 3 VIII 6 3 eb ch af gd ij kp mn oz …\n",
        "\n",
        "We have also found out that they have left out 4 plugboard partners. What does this mean? Can you solve this? Flag format is RTL{flag}\n",
        "\n",
        "Solve:\n",
        "\n",
        "Đây là mã WWII dùng Enigma Machine, với:\n",
        "\n",
        "Model: Enigma M3\n",
        "\n",
        "Reflector: UKW B\n",
        "\n",
        "Rotor 1: VII\n",
        "\n",
        "Rotor 2: VII\n",
        "\n",
        "Rotor 3: VIII\n",
        "\n",
        "Position: (C, P, F) \n",
        "\n",
        "Ring: (B, C, C)\n",
        "\n",
        "Plugboard: eb ch af gd ij kp mn oz\n",
        "\n",
        "\n",
        "Theo đề, ta biết được mình thiếu 4 plugboard partners, lọc hết từ bảng chữ cái, ta brute force các cặp plugboard rồi gắn vô:\n",
        "\n",
        "=> Plugboard: eb ch af gd ij kp mn oz ***wy vx ql tu***\n",
        "\n",
        ">FLAG: RTL{3nigm@_1s_th3_w@y_t0_g0}"
      ]
    },
    {
      "cell_type": "markdown",
      "metadata": {
        "id": "IRuyOpLfbv9o"
      },
      "source": [
        "# Diffie Hellman\n",
        "\n",
        "Đề:\n",
        "\n",
        "Alice and Bob are communicating through a encrypted channel. To be more secure they exchange keys first and then exchange messages. Can you crack the message to find out the flag.\n",
        "\n",
        "IP: 139.59.252.147 PORT: 19012\n",
        "\n",
        "Solve:\n",
        "\n",
        "Nhập 2 số vào nó sẽ process 1 cái gì đó, nhưng nhập số đầu tiên = 0 thì lòi ra mẹ flag :v\n",
        "\n",
        ">FLAG: RTL{4c7d928f563796fbe0d5f1d094c348b5}\n",
        "\n"
      ]
    }
  ]
}